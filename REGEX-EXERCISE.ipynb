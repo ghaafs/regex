{
 "cells": [
  {
   "cell_type": "code",
   "execution_count": 1,
   "id": "2e47496e-d6da-4dea-b177-05059e9cfc2d",
   "metadata": {},
   "outputs": [],
   "source": [
    "import re"
   ]
  },
  {
   "cell_type": "code",
   "execution_count": 2,
   "id": "96f291a9-94e3-4b4d-9ca9-2139323d25f6",
   "metadata": {},
   "outputs": [],
   "source": [
    "def get_pattern_match(pattern, text):\n",
    "    matches = re.findall(pattern, text)\n",
    "    return \"\\n\".join(matches)"
   ]
  },
  {
   "cell_type": "markdown",
   "id": "89b144a2-1695-4a7a-b732-a2c066ba5b00",
   "metadata": {},
   "source": [
    "##"
   ]
  },
  {
   "cell_type": "code",
   "execution_count": 3,
   "id": "3d9050a4-ce15-4e13-acc1-f6dcfe1207f0",
   "metadata": {},
   "outputs": [],
   "source": [
    "text = '''\n",
    "Follow our leader Elon musk on twitter here: https://twitter.com/elonmusk, more information \n",
    "on Tesla's products can be found at https://www.tesla.com/. Also here are leading influencers \n",
    "for tesla related news,\n",
    "https://twitter.com/teslarati\n",
    "https://twitter.com/dummy_tesla\n",
    "https://twitter.com/dummy_2_tesla'''"
   ]
  },
  {
   "cell_type": "code",
   "execution_count": 4,
   "id": "ad7e335f-59db-48d7-864a-d31cb03b2960",
   "metadata": {},
   "outputs": [
    {
     "name": "stdout",
     "output_type": "stream",
     "text": [
      "elonmusk\n",
      "teslarati\n",
      "dummy_tesla\n",
      "dummy_2_tesla\n"
     ]
    }
   ],
   "source": [
    "print(get_pattern_match(r'https://twitter\\.com/([A-Za-z0-9_]+)', text).strip())"
   ]
  },
  {
   "cell_type": "code",
   "execution_count": 5,
   "id": "cde68a6d-f374-4135-913e-72e8ca2572d0",
   "metadata": {},
   "outputs": [],
   "source": [
    "text = '''\n",
    "Concentration of Risk: Credit Risk\n",
    "Financial instruments that potentially subject us to a concentration of credit risk consist of cash, cash equivalents, marketable securities,\n",
    "restricted cash, accounts receivable, convertible note hedges, and interest rate swaps. Our cash balances are primarily invested in money market funds\n",
    "or on deposit at high credit quality financial institutions in the U.S. These deposits are typically in excess of insured limits. As of September 30, 2021\n",
    "and December 31, 2020, no entity represented 10% or more of our total accounts receivable balance. The risk of concentration for our convertible note\n",
    "hedges and interest rate swaps is mitigated by transacting with several highly-rated multinational banks.\n",
    "Concentration of Risk: Supply Risk\n",
    "We are dependent on our suppliers, including single source suppliers, and the inability of these suppliers to deliver necessary components of our\n",
    "products in a timely manner at prices, quality levels and volumes acceptable to us, or our inability to efficiently manage these components from these\n",
    "suppliers, could have a material adverse effect on our business, prospects, financial condition and operating results.'''"
   ]
  },
  {
   "cell_type": "code",
   "execution_count": 6,
   "id": "e8f86227-8bdd-49c2-a6e3-09218409012b",
   "metadata": {},
   "outputs": [
    {
     "data": {
      "text/plain": [
       "''"
      ]
     },
     "execution_count": 6,
     "metadata": {},
     "output_type": "execute_result"
    }
   ],
   "source": [
    "get_pattern_match(r'Concentration of Risk:\\s*(Credit Risk|Supply Risk)\\s*(.*?)(?=Concentration of Risk:|$)', text)"
   ]
  },
  {
   "cell_type": "code",
   "execution_count": 7,
   "id": "cef6d95f-7d47-4aa5-aa72-c3369da615ff",
   "metadata": {},
   "outputs": [],
   "source": [
    "text = '''\n",
    "Tesla's gross cost of operating lease vehicles in FY2021 Q1 was $4.85 billion.\n",
    "BMW's gross cost of operating vehicles in FY2021 S1 was $8 billion.\n",
    "'''"
   ]
  },
  {
   "cell_type": "code",
   "execution_count": 8,
   "id": "9d40f713-134a-4c29-af04-317d675c6170",
   "metadata": {
    "scrolled": true
   },
   "outputs": [
    {
     "name": "stderr",
     "output_type": "stream",
     "text": [
      "<>:1: SyntaxWarning: invalid escape sequence '\\$'\n",
      "<>:1: SyntaxWarning: invalid escape sequence '\\$'\n",
      "/var/folders/gv/jqck85rs2xsbqh6bd8fxxl680000gn/T/ipykernel_5570/3930958733.py:1: SyntaxWarning: invalid escape sequence '\\$'\n",
      "  get_pattern_match('was (?P<Cost>\\$?\\d+(?:\\.\\d+)?)', text).split()\n"
     ]
    },
    {
     "data": {
      "text/plain": [
       "['$4.85', '$8']"
      ]
     },
     "execution_count": 8,
     "metadata": {},
     "output_type": "execute_result"
    }
   ],
   "source": [
    "get_pattern_match('was (?P<Cost>\\$?\\d+(?:\\.\\d+)?)', text).split()"
   ]
  }
 ],
 "metadata": {
  "kernelspec": {
   "display_name": "Python 3 (ipykernel)",
   "language": "python",
   "name": "python3"
  },
  "language_info": {
   "codemirror_mode": {
    "name": "ipython",
    "version": 3
   },
   "file_extension": ".py",
   "mimetype": "text/x-python",
   "name": "python",
   "nbconvert_exporter": "python",
   "pygments_lexer": "ipython3",
   "version": "3.12.2"
  }
 },
 "nbformat": 4,
 "nbformat_minor": 5
}
