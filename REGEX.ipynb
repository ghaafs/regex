{
 "cells": [
  {
   "cell_type": "markdown",
   "id": "61684e5b-c1f1-4574-bcc6-7882391602bd",
   "metadata": {},
   "source": [
    "# REGEX\n",
    "### Regular Expression is used for Chatbot development to getting customer/user information"
   ]
  },
  {
   "cell_type": "code",
   "execution_count": 1,
   "id": "fa26a31c-6f7e-4782-bb70-5e43ef209a21",
   "metadata": {},
   "outputs": [],
   "source": [
    "import re"
   ]
  },
  {
   "cell_type": "markdown",
   "id": "7b1c0414-5775-43e9-ba32-f6742d53a69c",
   "metadata": {},
   "source": [
    "### Input your Text"
   ]
  },
  {
   "cell_type": "code",
   "execution_count": 2,
   "id": "b6e7848c-a2b7-468b-963e-d773acdeee80",
   "metadata": {},
   "outputs": [],
   "source": [
    "chat1 = 'codebasics: you ask lot of questions 😠  1235678912, abc@xyz.dedeij'\n",
    "chat2 = 'codebasics: here it is: (123)-567-8912, abcEOF_@xyz.com'\n",
    "chat3 = 'codebasics: yes, phone: (458)-456-2930 email: abc330@xyz.com'"
   ]
  },
  {
   "cell_type": "markdown",
   "id": "d2e7a9bd-79ea-4c54-b9b5-6e5864326917",
   "metadata": {},
   "source": [
    "### Get number info"
   ]
  },
  {
   "cell_type": "code",
   "execution_count": 3,
   "id": "cbda5dd8-3175-4114-992a-e79d3ccf8267",
   "metadata": {},
   "outputs": [
    {
     "name": "stderr",
     "output_type": "stream",
     "text": [
      "<>:1: SyntaxWarning: invalid escape sequence '\\d'\n",
      "<>:1: SyntaxWarning: invalid escape sequence '\\d'\n",
      "/var/folders/gv/jqck85rs2xsbqh6bd8fxxl680000gn/T/ipykernel_2887/3918243165.py:1: SyntaxWarning: invalid escape sequence '\\d'\n",
      "  pattern = '\\d{10}|\\(\\d{3}\\)-\\d{3}-\\d{4}'\n"
     ]
    },
    {
     "data": {
      "text/plain": [
       "['(458)-456-2930']"
      ]
     },
     "execution_count": 3,
     "metadata": {},
     "output_type": "execute_result"
    }
   ],
   "source": [
    "pattern = '\\d{10}|\\(\\d{3}\\)-\\d{3}-\\d{4}'\n",
    "\n",
    "matches = re.findall(pattern, chat3)\n",
    "matches"
   ]
  },
  {
   "cell_type": "markdown",
   "id": "ca6aed5c-a436-4e8e-bc88-0c08eddd71ab",
   "metadata": {},
   "source": [
    "### Get email info"
   ]
  },
  {
   "cell_type": "code",
   "execution_count": 4,
   "id": "b5403258-ccd3-4707-a9b4-6d554c3a79cd",
   "metadata": {},
   "outputs": [
    {
     "data": {
      "text/plain": [
       "['abcEOF_@xyz.com']"
      ]
     },
     "execution_count": 4,
     "metadata": {},
     "output_type": "execute_result"
    }
   ],
   "source": [
    "pattern = '[a-z0-9A-Z_]*@[a-z0-9A-Z]*.[a-zA-Z]*'\n",
    "\n",
    "matches = re.findall(pattern, chat2)\n",
    "matches"
   ]
  },
  {
   "cell_type": "markdown",
   "id": "b0cac25f-a4da-4b5c-a398-dfea7eb5d734",
   "metadata": {},
   "source": [
    "### Get number order"
   ]
  },
  {
   "cell_type": "code",
   "execution_count": 5,
   "id": "b01ed8dc-1d96-4385-afed-003689d6f6e7",
   "metadata": {},
   "outputs": [],
   "source": [
    "chat1='codebasics: Hello, I am having an issue with my order # 412889'\n",
    "chat2='codebasics: I have a problem with my order number 412889912'\n",
    "chat3='codebasics: My order 412889912 is having an issue, I was charger'"
   ]
  },
  {
   "cell_type": "code",
   "execution_count": 6,
   "id": "67d44245-f97d-435a-b24b-069888f76731",
   "metadata": {},
   "outputs": [
    {
     "name": "stderr",
     "output_type": "stream",
     "text": [
      "<>:1: SyntaxWarning: invalid escape sequence '\\d'\n",
      "<>:1: SyntaxWarning: invalid escape sequence '\\d'\n",
      "/var/folders/gv/jqck85rs2xsbqh6bd8fxxl680000gn/T/ipykernel_2887/3102870896.py:1: SyntaxWarning: invalid escape sequence '\\d'\n",
      "  pattern = 'order[^\\d]*(\\d*)'\n"
     ]
    },
    {
     "data": {
      "text/plain": [
       "['412889912']"
      ]
     },
     "execution_count": 6,
     "metadata": {},
     "output_type": "execute_result"
    }
   ],
   "source": [
    "pattern = 'order[^\\d]*(\\d*)'\n",
    "\n",
    "matches = re.findall(pattern, chat2)\n",
    "matches"
   ]
  },
  {
   "cell_type": "markdown",
   "id": "8c8a3560-2763-4ce5-87b8-3f7b1a51b1bb",
   "metadata": {},
   "source": [
    "*harus ada [^\\d] karena di chat tersebut ada string*"
   ]
  },
  {
   "cell_type": "markdown",
   "id": "d55f0a67-1990-4411-aacd-91b58a8bbc38",
   "metadata": {},
   "source": [
    "## RETREIVE INFORMATION"
   ]
  },
  {
   "cell_type": "code",
   "execution_count": 9,
   "id": "b2a1844b-dc08-4b5d-a6ce-a2a180d27956",
   "metadata": {},
   "outputs": [],
   "source": [
    "def get_pattern(pattern, text):\n",
    "    matches = re.findall(pattern, text)\n",
    "    if matches:\n",
    "        return matches[0]"
   ]
  },
  {
   "cell_type": "code",
   "execution_count": 10,
   "id": "7e7fb269-c073-4313-924a-30e5bca31440",
   "metadata": {},
   "outputs": [],
   "source": [
    "text = '''\n",
    "\n",
    "Born\tTaylor Alison Swift\n",
    "December 13, 1989 (age 34)\n",
    "West Reading, Pennsylvania, US\n",
    "Occupations\t\n",
    "Singer-songwriter record producer actress director\n",
    "Years active\t2003–present\n",
    "Organization\tTaylor Swift Productions\n",
    "Works\t\n",
    "Albums singles songs videos performances\n",
    "Relatives\t\n",
    "Austin Swift (brother)\n",
    "Marjorie Finlay (grandmother)\n",
    "Awards\tFull list\n",
    "Musical career\n",
    "Origin\tNashville, Tennessee, US\n",
    "Genres\t\n",
    "Pop country folk rock alternative\n",
    "Instruments\t\n",
    "Vocals guitar piano banjo ukulele\n",
    "Labels\t\n",
    "Republic Big Machine\n",
    "'''"
   ]
  },
  {
   "cell_type": "code",
   "execution_count": 11,
   "id": "d196c7a8-e656-4b27-a39d-d3c972724b91",
   "metadata": {},
   "outputs": [
    {
     "data": {
      "text/plain": [
       "'34'"
      ]
     },
     "execution_count": 11,
     "metadata": {},
     "output_type": "execute_result"
    }
   ],
   "source": [
    "get_pattern(r'age (\\d+)', text)"
   ]
  },
  {
   "cell_type": "code",
   "execution_count": 12,
   "id": "842774e8-27f7-4d83-bf97-f5bcc5d5ff40",
   "metadata": {},
   "outputs": [
    {
     "data": {
      "text/plain": [
       "'Taylor Alison Swift'"
      ]
     },
     "execution_count": 12,
     "metadata": {},
     "output_type": "execute_result"
    }
   ],
   "source": [
    "get_pattern(r'Born(.*)\\n', text).strip()"
   ]
  },
  {
   "cell_type": "code",
   "execution_count": 13,
   "id": "c40baa2d-be1f-4d71-aeee-74f6d6f3555e",
   "metadata": {},
   "outputs": [
    {
     "data": {
      "text/plain": [
       "'December 13, 1989'"
      ]
     },
     "execution_count": 13,
     "metadata": {},
     "output_type": "execute_result"
    }
   ],
   "source": [
    "get_pattern(r'Born.*\\n(.*)\\(age', text).strip()"
   ]
  },
  {
   "cell_type": "code",
   "execution_count": 14,
   "id": "23dabac8-a48a-469f-94f9-5d550a08b87e",
   "metadata": {},
   "outputs": [
    {
     "data": {
      "text/plain": [
       "'West Reading, Pennsylvania, US'"
      ]
     },
     "execution_count": 14,
     "metadata": {},
     "output_type": "execute_result"
    }
   ],
   "source": [
    "get_pattern(r'age.*\\n(.*)', text).strip()"
   ]
  },
  {
   "cell_type": "markdown",
   "id": "349845d3-0249-4b82-9ad4-8d1a2b6e6456",
   "metadata": {},
   "source": [
    "### FUNCTION"
   ]
  },
  {
   "cell_type": "code",
   "execution_count": 16,
   "id": "7722c67a-2ac1-4934-9551-1750ab7ec158",
   "metadata": {},
   "outputs": [],
   "source": [
    "def personal_information(text):\n",
    "    age = get_pattern(r'age (\\d+)', text)\n",
    "    full_name = get_pattern(r'Born(.*)\\n', text).strip()\n",
    "    birth_date = get_pattern(r'Born.*\\n(.*)\\(age', text).strip()\n",
    "    born_place = get_pattern(r'age.*\\n(.*)', text).strip()\n",
    "\n",
    "    return {\n",
    "        'age' : int(age),\n",
    "        'name': full_name,\n",
    "        'birth date' : birth_date,\n",
    "        'born place' : born_place\n",
    "    }"
   ]
  },
  {
   "cell_type": "code",
   "execution_count": 17,
   "id": "04933a6d-ddba-4a7a-ad57-ebb6107d02b3",
   "metadata": {},
   "outputs": [
    {
     "data": {
      "text/plain": [
       "{'age': 34,\n",
       " 'name': 'Taylor Alison Swift',\n",
       " 'birth date': 'December 13, 1989',\n",
       " 'born place': 'West Reading, Pennsylvania, US'}"
      ]
     },
     "execution_count": 17,
     "metadata": {},
     "output_type": "execute_result"
    }
   ],
   "source": [
    "personal_information(text)"
   ]
  }
 ],
 "metadata": {
  "kernelspec": {
   "display_name": "Python 3 (ipykernel)",
   "language": "python",
   "name": "python3"
  },
  "language_info": {
   "codemirror_mode": {
    "name": "ipython",
    "version": 3
   },
   "file_extension": ".py",
   "mimetype": "text/x-python",
   "name": "python",
   "nbconvert_exporter": "python",
   "pygments_lexer": "ipython3",
   "version": "3.12.2"
  }
 },
 "nbformat": 4,
 "nbformat_minor": 5
}
